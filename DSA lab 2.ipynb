{
  "nbformat": 4,
  "nbformat_minor": 0,
  "metadata": {
    "colab": {
      "name": "Untitled1.ipynb",
      "provenance": [],
      "collapsed_sections": [],
      "authorship_tag": "ABX9TyNtKLKKoyUVJzahU5TSYaXX",
      "include_colab_link": true
    },
    "kernelspec": {
      "name": "python3",
      "display_name": "Python 3"
    },
    "language_info": {
      "name": "python"
    }
  },
  "cells": [
    {
      "cell_type": "markdown",
      "metadata": {
        "id": "view-in-github",
        "colab_type": "text"
      },
      "source": [
        "<a href=\"https://colab.research.google.com/github/Muhammad-Haider11/Muhammad-Haider11/blob/main/DSA%20lab%202.ipynb\" target=\"_parent\"><img src=\"https://colab.research.google.com/assets/colab-badge.svg\" alt=\"Open In Colab\"/></a>"
      ]
    },
    {
      "cell_type": "code",
      "metadata": {
        "colab": {
          "base_uri": "https://localhost:8080/"
        },
        "id": "Ov-oEBxqUakk",
        "outputId": "31cae825-67ce-4ccb-fba9-f941873c5d85"
      },
      "source": [
        "import time\n",
        "import threading\n",
        "start=time.perf_counter()\n",
        "class Queue:\n",
        "    def __init__(self):\n",
        "        self.items = []\n",
        "\n",
        "    def isEmpty(self):\n",
        "        return self.items == []\n",
        "\n",
        "    def enqueue(self, item):\n",
        "        self.items.insert(0,item)\n",
        "\n",
        "    def dequeue(self):\n",
        "        return self.items.pop()\n",
        "\n",
        "    def size(self):\n",
        "        return len(self.items)\n",
        "q=Queue()\n",
        "orders = ['pizza','samosa','pasta','biryani','burger']\n",
        "print(\"orders in queue 'pizza','samosa','pasta','biryani','burger'\")\n",
        "def placeorder():\n",
        "    q.enqueue(orders[0])\n",
        "    time.sleep(0.5)\n",
        "    q.enqueue(orders[1])\n",
        "    time.sleep(0.5)\n",
        "    q.enqueue(orders[2])\n",
        "    time.sleep(0.5)\n",
        "    q.enqueue(orders[3])\n",
        "    time.sleep(0.5)\n",
        "    q.enqueue(orders[4])\n",
        "\n",
        "def serveorder():\n",
        "    print(\"serving order\")\n",
        "    print(q.dequeue())\n",
        "    time.sleep(2)\n",
        "    print(q.dequeue())\n",
        "    time.sleep(2)\n",
        "    print(q.dequeue())\n",
        "    time.sleep(2)\n",
        "    print(q.dequeue())\n",
        "    time.sleep(2)\n",
        "threads = []\n",
        "t1 = threading.Thread(target=placeorder())\n",
        "t2 = threading.Thread(target=serveorder())\n",
        "t1.start()\n",
        "time.sleep(1)\n",
        "t2.start()\n",
        "t1.join()\n",
        "t2.join()\n",
        "finish=time.perf_counter()\n",
        "print( time.perf_counter())\n"
      ],
      "execution_count": 2,
      "outputs": [
        {
          "output_type": "stream",
          "name": "stdout",
          "text": [
            "orders in queue 'pizza','samosa','pasta','biryani','burger'\n",
            "None\n",
            "None\n",
            "None\n",
            "None\n",
            "None\n",
            "serving order\n",
            "pizza\n",
            "samosa\n",
            "pasta\n",
            "biryani\n",
            "103.014452447\n"
          ]
        }
      ]
    }
  ]
}